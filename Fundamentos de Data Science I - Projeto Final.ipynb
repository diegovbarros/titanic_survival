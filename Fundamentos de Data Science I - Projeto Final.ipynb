{
 "cells": [
  {
   "cell_type": "markdown",
   "metadata": {},
   "source": [
    "## Previsão de Sobrevivência do Titanic\n",
    "\n",
    "Vamos analisar o conjunto de dado que contém informações e dados demográficos de 891 dentre os 2.224 passageiros e tripulação a bordo do Titanic e tentar descobrir o motivo de alguns grupos de pessoas serem mais propensas a sobreviver do que outras. Para fazer isso, iremos seguir os seguintes passos:\n",
    "\n",
    "* Análise e exploração dos dados\n",
    "* Brainstorm\n",
    "* Wrangle(Limpar, preparar e arrumar os dados)\n",
    "* Visualizar, reportar e demonstrar nossas descobertas"
   ]
  },
  {
   "cell_type": "markdown",
   "metadata": {},
   "source": [
    "## 1. Importando bibliotecas essencias\n",
    "\n",
    "+ Pandas: Utilizada para transformar os dados contidos no csv em um dataframe de fácil manipulação\n",
    "+ Numpy : Utilizada para facilitar nosso esforço na análise dos dados\n",
    "+ Seaborn e Matplotlib : Utilizada para construir, customizar e mostrar os gráficos da análise feita"
   ]
  },
  {
   "cell_type": "code",
   "execution_count": 485,
   "metadata": {},
   "outputs": [],
   "source": [
    "#Importing the pandas library, responsable to manipulate and tranform the data contained on csv files on dataframes\n",
    "import pandas as pd\n",
    "#Importing the numpy library, responsible to smooth our effort in analyze the data\n",
    "import numpy as np\n",
    "#Importing the matplotlib and seaborn libraries, responsable to show the graphs about the findings\n",
    "import seaborn as sns\n",
    "import matplotlib.pyplot as plt\n",
    "\n",
    "%matplotlib inline"
   ]
  },
  {
   "cell_type": "markdown",
   "metadata": {},
   "source": [
    "## 2. Carregando os dados e verificando o seu conteúdo\n",
    "\n",
    "Pandas é muito útil para carregar e trabalhar com os dados contidos no arquivo csv. Aqui estamos carregando os dados contidos em um csv para uma estrutura do Panda chamada dataframe do Panda de fácil manipulação e também carregando uma parte dos dados para verificar seu conteúdo.\n"
   ]
  },
  {
   "cell_type": "code",
   "execution_count": 457,
   "metadata": {},
   "outputs": [
    {
     "data": {
      "text/html": [
       "<div>\n",
       "<style scoped>\n",
       "    .dataframe tbody tr th:only-of-type {\n",
       "        vertical-align: middle;\n",
       "    }\n",
       "\n",
       "    .dataframe tbody tr th {\n",
       "        vertical-align: top;\n",
       "    }\n",
       "\n",
       "    .dataframe thead th {\n",
       "        text-align: right;\n",
       "    }\n",
       "</style>\n",
       "<table border=\"1\" class=\"dataframe\">\n",
       "  <thead>\n",
       "    <tr style=\"text-align: right;\">\n",
       "      <th></th>\n",
       "      <th>PassengerId</th>\n",
       "      <th>Survived</th>\n",
       "      <th>Pclass</th>\n",
       "      <th>Name</th>\n",
       "      <th>Sex</th>\n",
       "      <th>Age</th>\n",
       "      <th>SibSp</th>\n",
       "      <th>Parch</th>\n",
       "      <th>Ticket</th>\n",
       "      <th>Fare</th>\n",
       "      <th>Cabin</th>\n",
       "      <th>Embarked</th>\n",
       "    </tr>\n",
       "  </thead>\n",
       "  <tbody>\n",
       "    <tr>\n",
       "      <th>0</th>\n",
       "      <td>1</td>\n",
       "      <td>0</td>\n",
       "      <td>3</td>\n",
       "      <td>Braund, Mr. Owen Harris</td>\n",
       "      <td>male</td>\n",
       "      <td>22.0</td>\n",
       "      <td>1</td>\n",
       "      <td>0</td>\n",
       "      <td>A/5 21171</td>\n",
       "      <td>7.2500</td>\n",
       "      <td>NaN</td>\n",
       "      <td>S</td>\n",
       "    </tr>\n",
       "    <tr>\n",
       "      <th>1</th>\n",
       "      <td>2</td>\n",
       "      <td>1</td>\n",
       "      <td>1</td>\n",
       "      <td>Cumings, Mrs. John Bradley (Florence Briggs Th...</td>\n",
       "      <td>female</td>\n",
       "      <td>38.0</td>\n",
       "      <td>1</td>\n",
       "      <td>0</td>\n",
       "      <td>PC 17599</td>\n",
       "      <td>71.2833</td>\n",
       "      <td>C85</td>\n",
       "      <td>C</td>\n",
       "    </tr>\n",
       "    <tr>\n",
       "      <th>2</th>\n",
       "      <td>3</td>\n",
       "      <td>1</td>\n",
       "      <td>3</td>\n",
       "      <td>Heikkinen, Miss. Laina</td>\n",
       "      <td>female</td>\n",
       "      <td>26.0</td>\n",
       "      <td>0</td>\n",
       "      <td>0</td>\n",
       "      <td>STON/O2. 3101282</td>\n",
       "      <td>7.9250</td>\n",
       "      <td>NaN</td>\n",
       "      <td>S</td>\n",
       "    </tr>\n",
       "    <tr>\n",
       "      <th>3</th>\n",
       "      <td>4</td>\n",
       "      <td>1</td>\n",
       "      <td>1</td>\n",
       "      <td>Futrelle, Mrs. Jacques Heath (Lily May Peel)</td>\n",
       "      <td>female</td>\n",
       "      <td>35.0</td>\n",
       "      <td>1</td>\n",
       "      <td>0</td>\n",
       "      <td>113803</td>\n",
       "      <td>53.1000</td>\n",
       "      <td>C123</td>\n",
       "      <td>S</td>\n",
       "    </tr>\n",
       "    <tr>\n",
       "      <th>4</th>\n",
       "      <td>5</td>\n",
       "      <td>0</td>\n",
       "      <td>3</td>\n",
       "      <td>Allen, Mr. William Henry</td>\n",
       "      <td>male</td>\n",
       "      <td>35.0</td>\n",
       "      <td>0</td>\n",
       "      <td>0</td>\n",
       "      <td>373450</td>\n",
       "      <td>8.0500</td>\n",
       "      <td>NaN</td>\n",
       "      <td>S</td>\n",
       "    </tr>\n",
       "  </tbody>\n",
       "</table>\n",
       "</div>"
      ],
      "text/plain": [
       "   PassengerId  Survived  Pclass  \\\n",
       "0            1         0       3   \n",
       "1            2         1       1   \n",
       "2            3         1       3   \n",
       "3            4         1       1   \n",
       "4            5         0       3   \n",
       "\n",
       "                                                Name     Sex   Age  SibSp  \\\n",
       "0                            Braund, Mr. Owen Harris    male  22.0      1   \n",
       "1  Cumings, Mrs. John Bradley (Florence Briggs Th...  female  38.0      1   \n",
       "2                             Heikkinen, Miss. Laina  female  26.0      0   \n",
       "3       Futrelle, Mrs. Jacques Heath (Lily May Peel)  female  35.0      1   \n",
       "4                           Allen, Mr. William Henry    male  35.0      0   \n",
       "\n",
       "   Parch            Ticket     Fare Cabin Embarked  \n",
       "0      0         A/5 21171   7.2500   NaN        S  \n",
       "1      0          PC 17599  71.2833   C85        C  \n",
       "2      0  STON/O2. 3101282   7.9250   NaN        S  \n",
       "3      0            113803  53.1000  C123        S  \n",
       "4      0            373450   8.0500   NaN        S  "
      ]
     },
     "execution_count": 457,
     "metadata": {},
     "output_type": "execute_result"
    }
   ],
   "source": [
    "passengers  = pd.read_csv('titanic-data-6.csv')\n",
    "passengers.head()\n"
   ]
  },
  {
   "cell_type": "markdown",
   "metadata": {},
   "source": [
    "## 3. Verificando algumas estatísticas\n",
    "\n",
    "* Total de passageiros é de 891 no total\n",
    "* A taxa de sobrevivência foi em torno de 38%\n",
    "* Por volta de 75% dos passageiros viajaram sozinhos\n",
    "* A média de idade é perto de 30 anos\n",
    "* A média da tarifa paga foi em torno de 32"
   ]
  },
  {
   "cell_type": "code",
   "execution_count": 588,
   "metadata": {},
   "outputs": [
    {
     "data": {
      "text/html": [
       "<div>\n",
       "<style scoped>\n",
       "    .dataframe tbody tr th:only-of-type {\n",
       "        vertical-align: middle;\n",
       "    }\n",
       "\n",
       "    .dataframe tbody tr th {\n",
       "        vertical-align: top;\n",
       "    }\n",
       "\n",
       "    .dataframe thead th {\n",
       "        text-align: right;\n",
       "    }\n",
       "</style>\n",
       "<table border=\"1\" class=\"dataframe\">\n",
       "  <thead>\n",
       "    <tr style=\"text-align: right;\">\n",
       "      <th></th>\n",
       "      <th>PassengerId</th>\n",
       "      <th>Survived</th>\n",
       "      <th>Pclass</th>\n",
       "      <th>Age</th>\n",
       "      <th>SibSp</th>\n",
       "      <th>Parch</th>\n",
       "      <th>Fare</th>\n",
       "    </tr>\n",
       "  </thead>\n",
       "  <tbody>\n",
       "    <tr>\n",
       "      <th>count</th>\n",
       "      <td>891.000000</td>\n",
       "      <td>891.000000</td>\n",
       "      <td>891.000000</td>\n",
       "      <td>891.000000</td>\n",
       "      <td>891.000000</td>\n",
       "      <td>891.000000</td>\n",
       "      <td>891.000000</td>\n",
       "    </tr>\n",
       "    <tr>\n",
       "      <th>mean</th>\n",
       "      <td>446.000000</td>\n",
       "      <td>0.383838</td>\n",
       "      <td>2.308642</td>\n",
       "      <td>29.371493</td>\n",
       "      <td>0.523008</td>\n",
       "      <td>0.381594</td>\n",
       "      <td>32.204208</td>\n",
       "    </tr>\n",
       "    <tr>\n",
       "      <th>std</th>\n",
       "      <td>257.353842</td>\n",
       "      <td>0.486592</td>\n",
       "      <td>0.836071</td>\n",
       "      <td>13.277422</td>\n",
       "      <td>1.102743</td>\n",
       "      <td>0.806057</td>\n",
       "      <td>49.693429</td>\n",
       "    </tr>\n",
       "    <tr>\n",
       "      <th>min</th>\n",
       "      <td>1.000000</td>\n",
       "      <td>0.000000</td>\n",
       "      <td>1.000000</td>\n",
       "      <td>0.000000</td>\n",
       "      <td>0.000000</td>\n",
       "      <td>0.000000</td>\n",
       "      <td>0.000000</td>\n",
       "    </tr>\n",
       "    <tr>\n",
       "      <th>25%</th>\n",
       "      <td>223.500000</td>\n",
       "      <td>0.000000</td>\n",
       "      <td>2.000000</td>\n",
       "      <td>21.000000</td>\n",
       "      <td>0.000000</td>\n",
       "      <td>0.000000</td>\n",
       "      <td>7.910400</td>\n",
       "    </tr>\n",
       "    <tr>\n",
       "      <th>50%</th>\n",
       "      <td>446.000000</td>\n",
       "      <td>0.000000</td>\n",
       "      <td>3.000000</td>\n",
       "      <td>30.000000</td>\n",
       "      <td>0.000000</td>\n",
       "      <td>0.000000</td>\n",
       "      <td>14.454200</td>\n",
       "    </tr>\n",
       "    <tr>\n",
       "      <th>75%</th>\n",
       "      <td>668.500000</td>\n",
       "      <td>1.000000</td>\n",
       "      <td>3.000000</td>\n",
       "      <td>35.000000</td>\n",
       "      <td>1.000000</td>\n",
       "      <td>0.000000</td>\n",
       "      <td>31.000000</td>\n",
       "    </tr>\n",
       "    <tr>\n",
       "      <th>max</th>\n",
       "      <td>891.000000</td>\n",
       "      <td>1.000000</td>\n",
       "      <td>3.000000</td>\n",
       "      <td>80.000000</td>\n",
       "      <td>8.000000</td>\n",
       "      <td>6.000000</td>\n",
       "      <td>512.329200</td>\n",
       "    </tr>\n",
       "  </tbody>\n",
       "</table>\n",
       "</div>"
      ],
      "text/plain": [
       "       PassengerId    Survived      Pclass         Age       SibSp  \\\n",
       "count   891.000000  891.000000  891.000000  891.000000  891.000000   \n",
       "mean    446.000000    0.383838    2.308642   29.371493    0.523008   \n",
       "std     257.353842    0.486592    0.836071   13.277422    1.102743   \n",
       "min       1.000000    0.000000    1.000000    0.000000    0.000000   \n",
       "25%     223.500000    0.000000    2.000000   21.000000    0.000000   \n",
       "50%     446.000000    0.000000    3.000000   30.000000    0.000000   \n",
       "75%     668.500000    1.000000    3.000000   35.000000    1.000000   \n",
       "max     891.000000    1.000000    3.000000   80.000000    8.000000   \n",
       "\n",
       "            Parch        Fare  \n",
       "count  891.000000  891.000000  \n",
       "mean     0.381594   32.204208  \n",
       "std      0.806057   49.693429  \n",
       "min      0.000000    0.000000  \n",
       "25%      0.000000    7.910400  \n",
       "50%      0.000000   14.454200  \n",
       "75%      0.000000   31.000000  \n",
       "max      6.000000  512.329200  "
      ]
     },
     "execution_count": 588,
     "metadata": {},
     "output_type": "execute_result"
    }
   ],
   "source": [
    "passengers.describe()"
   ]
  },
  {
   "cell_type": "markdown",
   "metadata": {},
   "source": [
    "## 4. Formulando a pergunta\n",
    "\n",
    "Após conhecer e entender a estrutura dos nossos dados, assim como os seus valores, a dúvida que mais se acentua é : \n",
    "\n",
    "*Quais features(colunas) tem uma correlação com o fator sobrevivência?*\n",
    "\n",
    "Como em todo o desastre, preferências de sobrevivência são dadas moralmente para mulheres, crianças, idosos e familias, porém também sabemos que pessoas de alto poder aquisitivo podem ter sido beneficiadas. \n",
    "\n",
    "Então vamos analisar e descobrir se os fatores como *Taxa(FareGroup)*,*Classe do Ticket(Pclass)*, *Genêro(Sex)*, *Família/Sozinho(FamilySize)* afetaram o fator sobrevivência também no desastre do Titanic. \n",
    "\n",
    "As perguntas seram as seguintes:\n",
    "\n",
    "* O fator classe ou fator taxa da passagem tiveram relação com o fator sobrevivência? Pessoas com poder aquisitivo maior tinham propensão a sobreviver mais que pessoas com poder aquisitivo menor?\n",
    "* O fator ser passageiro único ou viajar em família teve relação com o fator sobrevivência? Famílias tiveram mais chances de sobreviver do que pessoas viajando sozinha? E o tamanho da família interferia nessa correlação?\n",
    "* O fator genêro teve relação com o fator sobrevivência? Mulheres tiveram mais propensão a sobreviver do que os homens?"
   ]
  },
  {
   "cell_type": "markdown",
   "metadata": {},
   "source": [
    "## 5. Classificando as colunas do dataframe\n",
    "\n",
    "######  **Dados categóricos**   \n",
    "São dados que servem de label de um grupo de items ou indivíduos. Dados categóricos possuem a seguinte subdivisão:\n",
    "* __Ordinal: __  São dados que não ordem ou algum tipo de ranking de classificação associado.\n",
    "* __Nominal: __  São dados que possuem um ranking de classificação associado.\n",
    "        \n",
    "        \n",
    "###### **Dados Quantitativos** \n",
    "São dados na qual podemos operar matematicamente em cima deles para obter insights úteis. Dados quantitativos possuem a seguinte subdivisão:\n",
    "* __Discreto: __ São dados que podem ser subdivididos cada vez mais em menores unidades.\n",
    "* __Contínuo: __ São dados que não podem ser subdividios em menores unidades.\n",
    "\n",
    "\n",
    "Nossa classificação das colunas é a seguinte: \n",
    "\n",
    "######  **Dados categóricos**   \n",
    "*  **Ordinal: ** Pclass\n",
    "*  **Nominal: ** Survived, Sex, and Embarked\n",
    "\n",
    "######  **Dados Quantitativos**   \n",
    "*  **Discreto: ** SibSp, Parch\n",
    "*  **Contínuo: ** Age, Fare\n",
    "\n"
   ]
  },
  {
   "cell_type": "markdown",
   "metadata": {},
   "source": [
    "## 6. Verificando a qualidades dos dados\n",
    "\n",
    "Realizaremos uma pré-análise para descobrir se existem colunas com dados faltantes, nulos ou vazio. \n",
    "\n",
    "Podemos verificar que as colunas Age, Cabin and Embarked possuem 177, 687 e 2 dados nulos respectivamentos. \n"
   ]
  },
  {
   "cell_type": "code",
   "execution_count": 458,
   "metadata": {},
   "outputs": [
    {
     "name": "stdout",
     "output_type": "stream",
     "text": [
      "PassengerId      0\n",
      "Survived         0\n",
      "Pclass           0\n",
      "Name             0\n",
      "Sex              0\n",
      "Age            177\n",
      "SibSp            0\n",
      "Parch            0\n",
      "Ticket           0\n",
      "Fare             0\n",
      "Cabin          687\n",
      "Embarked         2\n",
      "dtype: int64\n",
      "<class 'pandas.core.frame.DataFrame'>\n",
      "RangeIndex: 891 entries, 0 to 890\n",
      "Data columns (total 12 columns):\n",
      "PassengerId    891 non-null int64\n",
      "Survived       891 non-null int64\n",
      "Pclass         891 non-null int64\n",
      "Name           891 non-null object\n",
      "Sex            891 non-null object\n",
      "Age            714 non-null float64\n",
      "SibSp          891 non-null int64\n",
      "Parch          891 non-null int64\n",
      "Ticket         891 non-null object\n",
      "Fare           891 non-null float64\n",
      "Cabin          204 non-null object\n",
      "Embarked       889 non-null object\n",
      "dtypes: float64(2), int64(5), object(5)\n",
      "memory usage: 83.6+ KB\n",
      "None\n",
      "Duplicated - 0\n"
     ]
    }
   ],
   "source": [
    "print(passengers.isnull().sum())\n",
    "print(passengers.info())\n",
    "print(\"Duplicated - {}\".format(passengers.duplicated().sum()))"
   ]
  },
  {
   "cell_type": "markdown",
   "metadata": {},
   "source": [
    "## 7. Estratégia para as colunas com dados faltantes\n",
    "\n",
    "### 7.1 Dados Quantitativos\n",
    "Iremos complementar as colunas com dados faltantes utilizando a mediana pra cada Title e transformar o tipo da coluna pra inteiro, que é a representação adequada para a coluna. \n",
    "Os seguintes passos serão executados:\n",
    "1. Criaremos uma coluna chamada Title para nos ajudar a calcular a idade referente ao título que a pessoa possui no nome\n",
    "2. Calcularemos a mediana da idade pra cada título\n",
    "3. Preencheremos os valores nulos com a mediana da idade referente ao título que a pessoa possui\n",
    "\n",
    "\n"
   ]
  },
  {
   "cell_type": "code",
   "execution_count": 459,
   "metadata": {},
   "outputs": [
    {
     "name": "stdout",
     "output_type": "stream",
     "text": [
      "<class 'pandas.core.frame.DataFrame'>\n",
      "RangeIndex: 891 entries, 0 to 890\n",
      "Data columns (total 13 columns):\n",
      "PassengerId    891 non-null int64\n",
      "Survived       891 non-null int64\n",
      "Pclass         891 non-null int64\n",
      "Name           891 non-null object\n",
      "Sex            891 non-null object\n",
      "Age            891 non-null float64\n",
      "SibSp          891 non-null int64\n",
      "Parch          891 non-null int64\n",
      "Ticket         891 non-null object\n",
      "Fare           891 non-null float64\n",
      "Cabin          204 non-null object\n",
      "Embarked       889 non-null object\n",
      "Title          891 non-null object\n",
      "dtypes: float64(2), int64(5), object(6)\n",
      "memory usage: 90.6+ KB\n"
     ]
    }
   ],
   "source": [
    "passengers[\"Title\"] = passengers.Name.str.extract('([A-Za-z]+)\\.', expand=False)\n",
    "ages                = passengers.groupby('Title')['Age'].median()\n",
    "for title in passengers.Title.unique():\n",
    "    median = ages[title]\n",
    "    passengers.loc[(passengers.Age.isnull()) & (passengers.Title == title),\"Age\"] = median\n",
    "\n",
    "passengers.info()"
   ]
  },
  {
   "cell_type": "markdown",
   "metadata": {},
   "source": [
    "## 7.2 Dados Qualitativos\n",
    "Iremos completar as colunas com os dados faltantes utilizando a moda da distribuição. A coluna cabine possui vários valores nulos e como já temos a classe do ticket não irá nos atrapalhar na análise, então iremos dropar essa coluna."
   ]
  },
  {
   "cell_type": "code",
   "execution_count": 460,
   "metadata": {},
   "outputs": [
    {
     "data": {
      "text/plain": [
       "PassengerId    0\n",
       "Survived       0\n",
       "Pclass         0\n",
       "Name           0\n",
       "Sex            0\n",
       "Age            0\n",
       "SibSp          0\n",
       "Parch          0\n",
       "Ticket         0\n",
       "Fare           0\n",
       "Embarked       0\n",
       "Title          0\n",
       "dtype: int64"
      ]
     },
     "execution_count": 460,
     "metadata": {},
     "output_type": "execute_result"
    }
   ],
   "source": [
    "passengers.Embarked.fillna(passengers['Embarked'].mode()[0],inplace=True)\n",
    "passengers.drop(\"Cabin\",axis=\"columns\",inplace=True)\n",
    "passengers.isnull().sum()\n"
   ]
  },
  {
   "cell_type": "markdown",
   "metadata": {},
   "source": [
    "## 8. Criando novas colunas\n",
    "\n",
    "Criaremos colunas novas afim de facilitar a análise dos dados\n",
    "\n",
    "1. FamilySize - Irá representar a quantidade de pessoas de uma família na qual essa pessoa pertence. Se o valor for 1, indica que essa pessoa viajou sozinha.\n",
    "2. AgeGroup   - Categorização das Idades. \n",
    "3. FareGroup  - Categorização das Tarifas em 4 faixas"
   ]
  },
  {
   "cell_type": "code",
   "execution_count": 587,
   "metadata": {},
   "outputs": [],
   "source": [
    "passengers[\"FamilySize\"]  = passengers.SibSp + passengers.Parch+ 1\n",
    "passengers.Age            = passengers.Age.astype(int)\n",
    "passengers[\"AgeGroup\"]    = pd.cut(passengers.Age,range(0,90,15))\n",
    "passengers[\"FareGroup\"]   = pd.cut(passengers.Fare,4,labels=[\"Cheap\",\"Normal\",\"Expensive\",\"Very Expensive\"])\n",
    "passengers.FamilySize     = pd.cut(passengers.FamilySize,[0,1,4,passengers.FamilySize.max()],labels=[\"Single\",\"Normal\",\"Large\"])\n"
   ]
  },
  {
   "cell_type": "markdown",
   "metadata": {},
   "source": [
    "## 9. Visualização Features x Sobrevivência\n",
    "\n",
    "Primeiro construímos uma função que passado o nome da feature, ela gera um gráfico relacionado a feature Survived\n"
   ]
  },
  {
   "cell_type": "code",
   "execution_count": 559,
   "metadata": {},
   "outputs": [],
   "source": [
    "def generate_graph(feature,graph=\"bar\"):\n",
    "    \"\"\"\n",
    "    Função que recebe o nome da feature e gera o gráfico relacionado a feature Survived\n",
    "    Argumentos:\n",
    "        feature:  String contendo o nome da feature\n",
    "    Retorna:\n",
    "        None\n",
    "    \"\"\"\n",
    "    ax       = None\n",
    "    group    = passengers.groupby([\"Survived\",feature],sort=True).size()\n",
    "    df_aux   = pd.concat([group[0],group[1]],axis=1).fillna(0)\n",
    "    ax       = df_aux.plot(kind=graph,title=feature,grid=True,legend=\"reverse\",rot=60,stacked=False)\n",
    "    ax.set_ylabel(\"Number of people\")\n",
    "    ax.legend([\"Not Survived\", \"Survived\"]);\n",
    "    \n"
   ]
  },
  {
   "cell_type": "markdown",
   "metadata": {},
   "source": [
    "## 9.1 Gráfico Pclass x Survived\n",
    "\n",
    "No gráfico vemos que a 1º classe foi a única com taxa de sobrevivência maior do que a de não sobrevivência comparada as outras classes(2º,3º) e que na 3º classe a discrepância entre mortos e sobreviventes foi bem alta comparada as outras classes(1º,2º), com muito mais mortos do que sobreviventes.\n",
    "\n",
    "A tendência de sobrevivência é maior em pessoas da 1º mas no caso das outras classes(2º,3º) principalmente na 3º, a tendência é de não sobrevivência"
   ]
  },
  {
   "cell_type": "code",
   "execution_count": 579,
   "metadata": {},
   "outputs": [
    {
     "data": {
      "image/png": "[encoded data removed]",
      "text/plain": [
       "<matplotlib.figure.Figure at 0x1a21c58d68>"
      ]
     },
     "metadata": {},
     "output_type": "display_data"
    }
   ],
   "source": [
    "generate_graph(\"Pclass\")\n"
   ]
  },
  {
   "cell_type": "markdown",
   "metadata": {},
   "source": [
    "## 9.2 Gráfico Sex x Survived\n",
    "\n",
    "No gráfico vemos que a taxa de sobrevivência de mulheres foi maior do que a de não sobrevivência comparada a taxa dos homens.\n",
    "\n",
    "A tendência de sobrevivência é maior nas mulheres do que nos homens."
   ]
  },
  {
   "cell_type": "code",
   "execution_count": 580,
   "metadata": {},
   "outputs": [
    {
     "data": {
      "image/png": "[encoded data removed]",
      "text/plain": [
       "<matplotlib.figure.Figure at 0x1a20e8da90>"
      ]
     },
     "metadata": {},
     "output_type": "display_data"
    }
   ],
   "source": [
    "generate_graph(\"Sex\")"
   ]
  },
  {
   "cell_type": "markdown",
   "metadata": {},
   "source": [
    "## 9.3 Gráfico FamilySize x Survived\n",
    "\n",
    "Temos uma categorização da quantidade de familiares:\n",
    "* Single          - (1)\n",
    "* Normal          - (2 - 4)\n",
    "* Large           - (5 - 11)\n",
    "\n",
    "No gráfico vemos famílias de tamanho normal, de 2 até 4 integrantes foi a única com taxa de sobrevivência maior do que a de não sobrevivência comparada com as outras categorias.\n",
    "\n",
    "A tendência de sobrevivência é maior em famílias de tamanho normal, do que em famílias grandes ou até mesmo se a pessoa estivesse viajando sozinha.\n"
   ]
  },
  {
   "cell_type": "code",
   "execution_count": 586,
   "metadata": {},
   "outputs": [
    {
     "data": {
      "image/png": "[encoded data removed]",
      "text/plain": [
       "<matplotlib.figure.Figure at 0x1a2012b0b8>"
      ]
     },
     "metadata": {},
     "output_type": "display_data"
    }
   ],
   "source": [
    "generate_graph(\"FamilySize\")"
   ]
  },
  {
   "cell_type": "markdown",
   "metadata": {},
   "source": [
    "## 9.4 Gráfico FareGroup x Survived e Fare x Survived\n",
    "\n",
    "Temos uma categorização dos valores da Tarifa pagas:\n",
    "* Cheap           - (0 - 128.082)\n",
    "* Normal          - (128.083 - 256.165)\n",
    "* Expensive       - (256.166 - 384.247)\n",
    "* Very Expensive  - (384.248 - 512.329)\n",
    "\n",
    "No gráfico vemos que a tarifa mais barata foi a única que teve a taxa de não sobrevivência maior do que de sobrevivência e com uma discrepância muito alta comparada com as outras tarifas. \n",
    "\n",
    "A tendência de sobrevivência é maior em pessoas que obtiveram taxas entre Normal e Carissimas(Normal - Very Expensive) comparadas as taxas mais baratas(Cheap)."
   ]
  },
  {
   "cell_type": "code",
   "execution_count": 584,
   "metadata": {},
   "outputs": [
    {
     "data": {
      "image/png": "[encoded data removed]",
      "text/plain": [
       "<matplotlib.figure.Figure at 0x1a209135f8>"
      ]
     },
     "metadata": {},
     "output_type": "display_data"
    },
    {
     "data": {
      "image/png": "[encoded data removed]",
      "text/plain": [
       "<matplotlib.figure.Figure at 0x1a229f9668>"
      ]
     },
     "metadata": {},
     "output_type": "display_data"
    }
   ],
   "source": [
    "generate_graph(\"FareGroup\")\n",
    "generate_graph(\"Fare\",\"area\")\n",
    "\n",
    "\n"
   ]
  },
  {
   "cell_type": "markdown",
   "metadata": {},
   "source": [
    "## 9.4 Gráfico AgeGroup x Survived e Age x Survived\n",
    "\n",
    "No gráfico vemos que a faixa etária de (0 - 15) foi a única que teve mais sobreviventes do que mortos e que na faixa de (15 - 30) a discrepância entre mortos e sobreviventes foi bem alta comparada as outras faixas, com muito mais mortos do que sobreviventes.\n",
    "\n",
    "A tendência de sobrevivência é maior em pessoas de 0 até 15 anos mas no caso das outras faixas etárias principalmente de 15 até 30, a tendência é de não sobrevivência"
   ]
  },
  {
   "cell_type": "code",
   "execution_count": 576,
   "metadata": {},
   "outputs": [
    {
     "data": {
      "image/png": "[encoded data removed]",
      "text/plain": [
       "<matplotlib.figure.Figure at 0x1a22c387b8>"
      ]
     },
     "metadata": {},
     "output_type": "display_data"
    },
    {
     "data": {
      "image/png": "[encoded data removed]",
      "text/plain": [
       "<matplotlib.figure.Figure at 0x1a225e6b00>"
      ]
     },
     "metadata": {},
     "output_type": "display_data"
    }
   ],
   "source": [
    "generate_graph(\"AgeGroup\")\n",
    "generate_graph(\"Age\",\"area\")"
   ]
  },
  {
   "cell_type": "code",
   "execution_count": null,
   "metadata": {},
   "outputs": [],
   "source": []
  }
 ],
 "metadata": {
  "kernelspec": {
   "display_name": "Python 3",
   "language": "python",
   "name": "python3"
  },
  "language_info": {
   "codemirror_mode": {
    "name": "ipython",
    "version": 3
   },
   "file_extension": ".py",
   "mimetype": "text/x-python",
   "name": "python",
   "nbconvert_exporter": "python",
   "pygments_lexer": "ipython3",
   "version": "3.6.4"
  }
 },
 "nbformat": 4,
 "nbformat_minor": 2
}
